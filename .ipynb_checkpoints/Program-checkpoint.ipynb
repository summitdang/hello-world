{
 "cells": [
  {
   "cell_type": "code",
   "execution_count": 2,
   "metadata": {},
   "outputs": [
    {
     "name": "stdin",
     "output_type": "stream",
     "text": [
      "Enter in your name Summit\n",
      "Enter in your age 18\n"
     ]
    },
    {
     "name": "stdout",
     "output_type": "stream",
     "text": [
      "Summit is an adult.\n"
     ]
    }
   ],
   "source": [
    "name = input(\"Enter in your name\")\n",
    "age = int(input(\"Enter in your age\"))\n",
    "\n",
    "if age < 13:\n",
    "    print(name + \"is a child.\")\n",
    "elif age < 18:\n",
    "        print(name + \"is a teenager.\")\n",
    "else:\n",
    "    print(name + \" is an adult.\")"
   ]
  },
  {
   "cell_type": "code",
   "execution_count": null,
   "metadata": {},
   "outputs": [],
   "source": []
  }
 ],
 "metadata": {
  "kernelspec": {
   "display_name": "Python 3",
   "language": "python",
   "name": "python3"
  },
  "language_info": {
   "codemirror_mode": {
    "name": "ipython",
    "version": 3
   },
   "file_extension": ".py",
   "mimetype": "text/x-python",
   "name": "python",
   "nbconvert_exporter": "python",
   "pygments_lexer": "ipython3",
   "version": "3.8.3"
  }
 },
 "nbformat": 4,
 "nbformat_minor": 4
}
